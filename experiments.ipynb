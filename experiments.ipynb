{
 "cells": [
  {
   "cell_type": "code",
   "execution_count": 712,
   "metadata": {},
   "outputs": [],
   "source": [
    "# %matplotlib widget"
   ]
  },
  {
   "cell_type": "code",
   "execution_count": 713,
   "metadata": {},
   "outputs": [],
   "source": [
    "import numpy as np\n",
    "import matplotlib.pyplot as plt\n",
    "from sklearn.datasets import make_blobs"
   ]
  },
  {
   "cell_type": "code",
   "execution_count": 714,
   "metadata": {},
   "outputs": [],
   "source": [
    "X, y = make_blobs(500, centers=2, cluster_std=1.4)\n",
    "y[y == 0] = -1"
   ]
  },
  {
   "cell_type": "code",
   "execution_count": 715,
   "metadata": {},
   "outputs": [],
   "source": [
    "def decision_func(X: np.ndarray, y: np.ndarray, b: float, w: np.ndarray) -> np.ndarray:\n",
    "    return np.dot(X, w) + b"
   ]
  },
  {
   "cell_type": "code",
   "execution_count": 716,
   "metadata": {},
   "outputs": [],
   "source": [
    "def loss(X: np.ndarray, y: np.ndarray, w: np.ndarray, b: np.ndarray) -> float:\n",
    "        return np.mean(np.max(0, 1 - y * decision_func(X, y, b, w))) + 0.01*np.sum(w**2)"
   ]
  },
  {
   "cell_type": "code",
   "execution_count": 717,
   "metadata": {},
   "outputs": [],
   "source": [
    "def training_func(X: np.ndarray, y: np.ndarray, b: float, w: np.ndarray, epochs: int, lr: float = 0.1) -> tuple[np.ndarray]:\n",
    "    for e in range(epochs):\n",
    "        print(f'Epoch {e}/{epochs}, Loss: {loss(X, y, w, b)}{20*\" \"}', end='\\r')\n",
    "\n",
    "        batch_mask = np.random.choice(y.size, size=32, replace=False)\n",
    "        X_batch, y_batch = X[batch_mask], y[batch_mask]\n",
    "\n",
    "        for x_i, y_i in zip(X_batch, y_batch):\n",
    "            dL_dw = -(y_i * x_i) * ((y_i * np.dot(x_i, w) + b) < 1) + 2*0.01*w\n",
    "            dL_db = -y_i * ((y_i * np.dot(x_i, w) + b) < 1)\n",
    "\n",
    "            w -= lr*dL_dw\n",
    "            b -= lr*dL_db\n",
    "\n",
    "    return w, b"
   ]
  },
  {
   "cell_type": "code",
   "execution_count": 718,
   "metadata": {},
   "outputs": [],
   "source": [
    "def fit(X: np.ndarray, y: np.ndarray) -> np.ndarray:\n",
    "    w, b = training_func(X, y, 0.0, np.random.random(X.shape[1]), 1000)\n",
    "    print(w, b)\n",
    "    return decision_func(X, y, b, w), w"
   ]
  },
  {
   "cell_type": "code",
   "execution_count": 719,
   "metadata": {},
   "outputs": [],
   "source": [
    "def draw_decision_boundary(X: np.ndarray, y: np.ndarray):\n",
    "    xx, yy = np.meshgrid(np.linspace(X[:, 0].min()-1, X[:, 0].max()+1, X.shape[0]),\n",
    "                         np.linspace(X[:, 1].min()-1, X[:, 1].max()+1, X.shape[0]))\n",
    "    X_grid = np.c_[xx.ravel(), yy.ravel()]\n",
    "    pred, w = fit(X_grid, y)\n",
    "    pred = pred.reshape(xx.shape)\n",
    "\n",
    "    fig, ax = plt.subplots()\n",
    "    fig.set_figwidth(12)\n",
    "    fig.set_figheight(10)\n",
    "    ax.contour(xx, yy, pred, levels=[-1, 0, 1], linestyles=['--', '-', '--'], colors=['r', 'k', 'r'])\n",
    "    ax.scatter(X[:, 0], X[:, 1], c=y)\n",
    "    ax.plot(np.linspace(0, w[0], 100), np.linspace(0, w[1], 100))\n",
    "    plt.show()"
   ]
  },
  {
   "cell_type": "code",
   "execution_count": 720,
   "metadata": {},
   "outputs": [
    {
     "ename": "TypeError",
     "evalue": "decision_func() missing 3 required positional arguments: 'y', 'b', and 'w'",
     "output_type": "error",
     "traceback": [
      "\u001b[1;31m---------------------------------------------------------------------------\u001b[0m",
      "\u001b[1;31mTypeError\u001b[0m                                 Traceback (most recent call last)",
      "\u001b[1;32me:\\main_desktop\\Support-Vector-Machine\\experiments.ipynb Cell 9\u001b[0m in \u001b[0;36m<cell line: 1>\u001b[1;34m()\u001b[0m\n\u001b[1;32m----> <a href='vscode-notebook-cell:/e%3A/main_desktop/Support-Vector-Machine/experiments.ipynb#X10sZmlsZQ%3D%3D?line=0'>1</a>\u001b[0m draw_decision_boundary(X, y)\n",
      "\u001b[1;32me:\\main_desktop\\Support-Vector-Machine\\experiments.ipynb Cell 9\u001b[0m in \u001b[0;36mdraw_decision_boundary\u001b[1;34m(X, y)\u001b[0m\n\u001b[0;32m      <a href='vscode-notebook-cell:/e%3A/main_desktop/Support-Vector-Machine/experiments.ipynb#X10sZmlsZQ%3D%3D?line=1'>2</a>\u001b[0m xx, yy \u001b[39m=\u001b[39m np\u001b[39m.\u001b[39mmeshgrid(np\u001b[39m.\u001b[39mlinspace(X[:, \u001b[39m0\u001b[39m]\u001b[39m.\u001b[39mmin()\u001b[39m-\u001b[39m\u001b[39m1\u001b[39m, X[:, \u001b[39m0\u001b[39m]\u001b[39m.\u001b[39mmax()\u001b[39m+\u001b[39m\u001b[39m1\u001b[39m, X\u001b[39m.\u001b[39mshape[\u001b[39m0\u001b[39m]),\n\u001b[0;32m      <a href='vscode-notebook-cell:/e%3A/main_desktop/Support-Vector-Machine/experiments.ipynb#X10sZmlsZQ%3D%3D?line=2'>3</a>\u001b[0m                      np\u001b[39m.\u001b[39mlinspace(X[:, \u001b[39m1\u001b[39m]\u001b[39m.\u001b[39mmin()\u001b[39m-\u001b[39m\u001b[39m1\u001b[39m, X[:, \u001b[39m1\u001b[39m]\u001b[39m.\u001b[39mmax()\u001b[39m+\u001b[39m\u001b[39m1\u001b[39m, X\u001b[39m.\u001b[39mshape[\u001b[39m0\u001b[39m]))\n\u001b[0;32m      <a href='vscode-notebook-cell:/e%3A/main_desktop/Support-Vector-Machine/experiments.ipynb#X10sZmlsZQ%3D%3D?line=3'>4</a>\u001b[0m X_grid \u001b[39m=\u001b[39m np\u001b[39m.\u001b[39mc_[xx\u001b[39m.\u001b[39mravel(), yy\u001b[39m.\u001b[39mravel()]\n\u001b[1;32m----> <a href='vscode-notebook-cell:/e%3A/main_desktop/Support-Vector-Machine/experiments.ipynb#X10sZmlsZQ%3D%3D?line=4'>5</a>\u001b[0m pred, w \u001b[39m=\u001b[39m fit(X_grid, y)\n\u001b[0;32m      <a href='vscode-notebook-cell:/e%3A/main_desktop/Support-Vector-Machine/experiments.ipynb#X10sZmlsZQ%3D%3D?line=5'>6</a>\u001b[0m pred \u001b[39m=\u001b[39m pred\u001b[39m.\u001b[39mreshape(xx\u001b[39m.\u001b[39mshape)\n\u001b[0;32m      <a href='vscode-notebook-cell:/e%3A/main_desktop/Support-Vector-Machine/experiments.ipynb#X10sZmlsZQ%3D%3D?line=7'>8</a>\u001b[0m fig, ax \u001b[39m=\u001b[39m plt\u001b[39m.\u001b[39msubplots()\n",
      "\u001b[1;32me:\\main_desktop\\Support-Vector-Machine\\experiments.ipynb Cell 9\u001b[0m in \u001b[0;36mfit\u001b[1;34m(X, y)\u001b[0m\n\u001b[0;32m      <a href='vscode-notebook-cell:/e%3A/main_desktop/Support-Vector-Machine/experiments.ipynb#X10sZmlsZQ%3D%3D?line=0'>1</a>\u001b[0m \u001b[39mdef\u001b[39;00m \u001b[39mfit\u001b[39m(X: np\u001b[39m.\u001b[39mndarray, y: np\u001b[39m.\u001b[39mndarray) \u001b[39m-\u001b[39m\u001b[39m>\u001b[39m np\u001b[39m.\u001b[39mndarray:\n\u001b[1;32m----> <a href='vscode-notebook-cell:/e%3A/main_desktop/Support-Vector-Machine/experiments.ipynb#X10sZmlsZQ%3D%3D?line=1'>2</a>\u001b[0m     w, b \u001b[39m=\u001b[39m training_func(X, y, \u001b[39m0.0\u001b[39;49m, np\u001b[39m.\u001b[39;49mrandom\u001b[39m.\u001b[39;49mrandom(X\u001b[39m.\u001b[39;49mshape[\u001b[39m1\u001b[39;49m]), \u001b[39m1000\u001b[39;49m)\n\u001b[0;32m      <a href='vscode-notebook-cell:/e%3A/main_desktop/Support-Vector-Machine/experiments.ipynb#X10sZmlsZQ%3D%3D?line=2'>3</a>\u001b[0m     \u001b[39mprint\u001b[39m(w, b)\n\u001b[0;32m      <a href='vscode-notebook-cell:/e%3A/main_desktop/Support-Vector-Machine/experiments.ipynb#X10sZmlsZQ%3D%3D?line=3'>4</a>\u001b[0m     \u001b[39mreturn\u001b[39;00m decision_func(X, y, b, w), w\n",
      "\u001b[1;32me:\\main_desktop\\Support-Vector-Machine\\experiments.ipynb Cell 9\u001b[0m in \u001b[0;36mtraining_func\u001b[1;34m(X, y, b, w, epochs, lr)\u001b[0m\n\u001b[0;32m      <a href='vscode-notebook-cell:/e%3A/main_desktop/Support-Vector-Machine/experiments.ipynb#X10sZmlsZQ%3D%3D?line=0'>1</a>\u001b[0m \u001b[39mdef\u001b[39;00m \u001b[39mtraining_func\u001b[39m(X: np\u001b[39m.\u001b[39mndarray, y: np\u001b[39m.\u001b[39mndarray, b: \u001b[39mfloat\u001b[39m, w: np\u001b[39m.\u001b[39mndarray, epochs: \u001b[39mint\u001b[39m, lr: \u001b[39mfloat\u001b[39m \u001b[39m=\u001b[39m \u001b[39m0.1\u001b[39m) \u001b[39m-\u001b[39m\u001b[39m>\u001b[39m \u001b[39mtuple\u001b[39m[np\u001b[39m.\u001b[39mndarray]:\n\u001b[0;32m      <a href='vscode-notebook-cell:/e%3A/main_desktop/Support-Vector-Machine/experiments.ipynb#X10sZmlsZQ%3D%3D?line=1'>2</a>\u001b[0m     \u001b[39mfor\u001b[39;00m e \u001b[39min\u001b[39;00m \u001b[39mrange\u001b[39m(epochs):\n\u001b[1;32m----> <a href='vscode-notebook-cell:/e%3A/main_desktop/Support-Vector-Machine/experiments.ipynb#X10sZmlsZQ%3D%3D?line=2'>3</a>\u001b[0m         \u001b[39mprint\u001b[39m(\u001b[39mf\u001b[39m\u001b[39m'\u001b[39m\u001b[39mEpoch \u001b[39m\u001b[39m{\u001b[39;00me\u001b[39m}\u001b[39;00m\u001b[39m/\u001b[39m\u001b[39m{\u001b[39;00mepochs\u001b[39m}\u001b[39;00m\u001b[39m, Loss: \u001b[39m\u001b[39m{\u001b[39;00mloss(X, y, w)\u001b[39m}\u001b[39;00m\u001b[39m{\u001b[39;00m\u001b[39m20\u001b[39m\u001b[39m*\u001b[39m\u001b[39m\"\u001b[39m\u001b[39m \u001b[39m\u001b[39m\"\u001b[39m\u001b[39m}\u001b[39;00m\u001b[39m'\u001b[39m, end\u001b[39m=\u001b[39m\u001b[39m'\u001b[39m\u001b[39m\\r\u001b[39;00m\u001b[39m'\u001b[39m)\n\u001b[0;32m      <a href='vscode-notebook-cell:/e%3A/main_desktop/Support-Vector-Machine/experiments.ipynb#X10sZmlsZQ%3D%3D?line=4'>5</a>\u001b[0m         batch_mask \u001b[39m=\u001b[39m np\u001b[39m.\u001b[39mrandom\u001b[39m.\u001b[39mchoice(y\u001b[39m.\u001b[39msize, size\u001b[39m=\u001b[39m\u001b[39m32\u001b[39m, replace\u001b[39m=\u001b[39m\u001b[39mFalse\u001b[39;00m)\n\u001b[0;32m      <a href='vscode-notebook-cell:/e%3A/main_desktop/Support-Vector-Machine/experiments.ipynb#X10sZmlsZQ%3D%3D?line=5'>6</a>\u001b[0m         X_batch, y_batch \u001b[39m=\u001b[39m X[batch_mask], y[batch_mask]\n",
      "\u001b[1;32me:\\main_desktop\\Support-Vector-Machine\\experiments.ipynb Cell 9\u001b[0m in \u001b[0;36mloss\u001b[1;34m(X, y, w)\u001b[0m\n\u001b[0;32m      <a href='vscode-notebook-cell:/e%3A/main_desktop/Support-Vector-Machine/experiments.ipynb#X10sZmlsZQ%3D%3D?line=0'>1</a>\u001b[0m \u001b[39mdef\u001b[39;00m \u001b[39mloss\u001b[39m(X: np\u001b[39m.\u001b[39mndarray, y: np\u001b[39m.\u001b[39mndarray, w: np\u001b[39m.\u001b[39mndarray) \u001b[39m-\u001b[39m\u001b[39m>\u001b[39m \u001b[39mfloat\u001b[39m:\n\u001b[1;32m----> <a href='vscode-notebook-cell:/e%3A/main_desktop/Support-Vector-Machine/experiments.ipynb#X10sZmlsZQ%3D%3D?line=1'>2</a>\u001b[0m         \u001b[39mreturn\u001b[39;00m np\u001b[39m.\u001b[39mmean(np\u001b[39m.\u001b[39mmax(\u001b[39m0\u001b[39m, \u001b[39m1\u001b[39m \u001b[39m-\u001b[39m y \u001b[39m*\u001b[39m decision_func(X))) \u001b[39m+\u001b[39m \u001b[39m0.01\u001b[39m\u001b[39m*\u001b[39mnp\u001b[39m.\u001b[39msum(w\u001b[39m*\u001b[39m\u001b[39m*\u001b[39m\u001b[39m2\u001b[39m)\n",
      "\u001b[1;31mTypeError\u001b[0m: decision_func() missing 3 required positional arguments: 'y', 'b', and 'w'"
     ]
    }
   ],
   "source": [
    "draw_decision_boundary(X, y)"
   ]
  }
 ],
 "metadata": {
  "kernelspec": {
   "display_name": "Python 3.10.4 64-bit",
   "language": "python",
   "name": "python3"
  },
  "language_info": {
   "codemirror_mode": {
    "name": "ipython",
    "version": 3
   },
   "file_extension": ".py",
   "mimetype": "text/x-python",
   "name": "python",
   "nbconvert_exporter": "python",
   "pygments_lexer": "ipython3",
   "version": "3.10.4"
  },
  "orig_nbformat": 4,
  "vscode": {
   "interpreter": {
    "hash": "e96b7987e83db2bb51693718935e9a4c90615288c60e4ac5255cd193dc13706d"
   }
  }
 },
 "nbformat": 4,
 "nbformat_minor": 2
}
