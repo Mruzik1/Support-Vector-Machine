{
 "cells": [
  {
   "cell_type": "code",
   "execution_count": 1,
   "metadata": {},
   "outputs": [],
   "source": [
    "%matplotlib widget"
   ]
  },
  {
   "cell_type": "code",
   "execution_count": 2,
   "metadata": {},
   "outputs": [],
   "source": [
    "import numpy as np\n",
    "import matplotlib.pyplot as plt\n",
    "from sklearn.datasets import make_blobs"
   ]
  },
  {
   "cell_type": "code",
   "execution_count": 8,
   "metadata": {},
   "outputs": [],
   "source": [
    "X, y = make_blobs(500, centers=2, cluster_std=1.4)\n",
    "y[y == 0] = -1"
   ]
  },
  {
   "cell_type": "code",
   "execution_count": 189,
   "metadata": {},
   "outputs": [],
   "source": [
    "def decision_func(X: np.ndarray, y: np.ndarray, b: float, w: np.ndarray) -> np.ndarray:\n",
    "    return np.dot(X, w) + b"
   ]
  },
  {
   "cell_type": "code",
   "execution_count": 190,
   "metadata": {},
   "outputs": [],
   "source": [
    "def training_func(X: np.ndarray, y: np.ndarray, b: float, w: np.ndarray, epochs: int, lr: float = 1) -> tuple[np.ndarray]:\n",
    "    for e in range(epochs):\n",
    "        print(f'Epoch {e}/{epochs}{20*\" \"}', end='\\r')\n",
    "        for X_i, y_i in zip(X, y):\n",
    "            if y_i*(np.dot(w, X_i)+b) <= 1:\n",
    "                w += lr*y_i*X_i\n",
    "                b += lr*y_i\n",
    "    return w, b"
   ]
  },
  {
   "cell_type": "code",
   "execution_count": 191,
   "metadata": {},
   "outputs": [],
   "source": [
    "def fit(X: np.ndarray, y: np.ndarray) -> np.ndarray:\n",
    "    w, b = training_func(X, y, 0.0, np.random.random(X.shape[1]), 1000)\n",
    "    print(w, b)\n",
    "    return decision_func(X, y, b, w)"
   ]
  },
  {
   "cell_type": "code",
   "execution_count": 192,
   "metadata": {},
   "outputs": [],
   "source": [
    "def draw_decision_boundary(X: np.ndarray, y: np.ndarray):\n",
    "    xx, yy = np.meshgrid(np.linspace(X[:, 0].min()-1, X[:, 0].max()+1, X.shape[0]),\n",
    "                         np.linspace(X[:, 1].min()-1, X[:, 1].max()+1, X.shape[0]))\n",
    "    X_grid = np.c_[xx.ravel(), yy.ravel()]\n",
    "    pred = fit(X_grid, y).reshape(xx.shape)\n",
    "\n",
    "    fig, ax = plt.subplots()\n",
    "    ax.contour(xx, yy, pred, levels=[-1, 0, 1], linestyles=['--', '-', '--'], colors=['r', 'k', 'r'])\n",
    "    ax.scatter(X[:, 0], X[:, 1], c=y)\n",
    "    plt.show()"
   ]
  },
  {
   "cell_type": "code",
   "execution_count": 193,
   "metadata": {},
   "outputs": [
    {
     "name": "stdout",
     "output_type": "stream",
     "text": [
      "[5.33902614 4.69374455] -1.0      \n"
     ]
    },
    {
     "ename": "ValueError",
     "evalue": "shapes (2,) and (250000,2) not aligned: 2 (dim 0) != 250000 (dim 0)",
     "output_type": "error",
     "traceback": [
      "\u001b[1;31m---------------------------------------------------------------------------\u001b[0m",
      "\u001b[1;31mValueError\u001b[0m                                Traceback (most recent call last)",
      "\u001b[1;32me:\\main_desktop\\Support-Vector-Machine\\experiments.ipynb Cell 8\u001b[0m in \u001b[0;36m<cell line: 1>\u001b[1;34m()\u001b[0m\n\u001b[1;32m----> <a href='vscode-notebook-cell:/e%3A/main_desktop/Support-Vector-Machine/experiments.ipynb#W6sZmlsZQ%3D%3D?line=0'>1</a>\u001b[0m draw_decision_boundary(X, y)\n",
      "\u001b[1;32me:\\main_desktop\\Support-Vector-Machine\\experiments.ipynb Cell 8\u001b[0m in \u001b[0;36mdraw_decision_boundary\u001b[1;34m(X, y)\u001b[0m\n\u001b[0;32m      <a href='vscode-notebook-cell:/e%3A/main_desktop/Support-Vector-Machine/experiments.ipynb#W6sZmlsZQ%3D%3D?line=1'>2</a>\u001b[0m xx, yy \u001b[39m=\u001b[39m np\u001b[39m.\u001b[39mmeshgrid(np\u001b[39m.\u001b[39mlinspace(X[:, \u001b[39m0\u001b[39m]\u001b[39m.\u001b[39mmin()\u001b[39m-\u001b[39m\u001b[39m1\u001b[39m, X[:, \u001b[39m0\u001b[39m]\u001b[39m.\u001b[39mmax()\u001b[39m+\u001b[39m\u001b[39m1\u001b[39m, X\u001b[39m.\u001b[39mshape[\u001b[39m0\u001b[39m]),\n\u001b[0;32m      <a href='vscode-notebook-cell:/e%3A/main_desktop/Support-Vector-Machine/experiments.ipynb#W6sZmlsZQ%3D%3D?line=2'>3</a>\u001b[0m                      np\u001b[39m.\u001b[39mlinspace(X[:, \u001b[39m1\u001b[39m]\u001b[39m.\u001b[39mmin()\u001b[39m-\u001b[39m\u001b[39m1\u001b[39m, X[:, \u001b[39m1\u001b[39m]\u001b[39m.\u001b[39mmax()\u001b[39m+\u001b[39m\u001b[39m1\u001b[39m, X\u001b[39m.\u001b[39mshape[\u001b[39m0\u001b[39m]))\n\u001b[0;32m      <a href='vscode-notebook-cell:/e%3A/main_desktop/Support-Vector-Machine/experiments.ipynb#W6sZmlsZQ%3D%3D?line=3'>4</a>\u001b[0m X_grid \u001b[39m=\u001b[39m np\u001b[39m.\u001b[39mc_[xx\u001b[39m.\u001b[39mravel(), yy\u001b[39m.\u001b[39mravel()]\n\u001b[1;32m----> <a href='vscode-notebook-cell:/e%3A/main_desktop/Support-Vector-Machine/experiments.ipynb#W6sZmlsZQ%3D%3D?line=4'>5</a>\u001b[0m pred \u001b[39m=\u001b[39m fit(X_grid, y)\u001b[39m.\u001b[39mreshape(xx\u001b[39m.\u001b[39mshape)\n\u001b[0;32m      <a href='vscode-notebook-cell:/e%3A/main_desktop/Support-Vector-Machine/experiments.ipynb#W6sZmlsZQ%3D%3D?line=6'>7</a>\u001b[0m fig, ax \u001b[39m=\u001b[39m plt\u001b[39m.\u001b[39msubplots()\n\u001b[0;32m      <a href='vscode-notebook-cell:/e%3A/main_desktop/Support-Vector-Machine/experiments.ipynb#W6sZmlsZQ%3D%3D?line=7'>8</a>\u001b[0m ax\u001b[39m.\u001b[39mcontour(xx, yy, pred, levels\u001b[39m=\u001b[39m[\u001b[39m-\u001b[39m\u001b[39m1\u001b[39m, \u001b[39m0\u001b[39m, \u001b[39m1\u001b[39m], linestyles\u001b[39m=\u001b[39m[\u001b[39m'\u001b[39m\u001b[39m--\u001b[39m\u001b[39m'\u001b[39m, \u001b[39m'\u001b[39m\u001b[39m-\u001b[39m\u001b[39m'\u001b[39m, \u001b[39m'\u001b[39m\u001b[39m--\u001b[39m\u001b[39m'\u001b[39m], colors\u001b[39m=\u001b[39m[\u001b[39m'\u001b[39m\u001b[39mr\u001b[39m\u001b[39m'\u001b[39m, \u001b[39m'\u001b[39m\u001b[39mk\u001b[39m\u001b[39m'\u001b[39m, \u001b[39m'\u001b[39m\u001b[39mr\u001b[39m\u001b[39m'\u001b[39m])\n",
      "\u001b[1;32me:\\main_desktop\\Support-Vector-Machine\\experiments.ipynb Cell 8\u001b[0m in \u001b[0;36mfit\u001b[1;34m(X, y)\u001b[0m\n\u001b[0;32m      <a href='vscode-notebook-cell:/e%3A/main_desktop/Support-Vector-Machine/experiments.ipynb#W6sZmlsZQ%3D%3D?line=1'>2</a>\u001b[0m w, b \u001b[39m=\u001b[39m training_func(X, y, \u001b[39m0.0\u001b[39m, np\u001b[39m.\u001b[39mrandom\u001b[39m.\u001b[39mrandom(X\u001b[39m.\u001b[39mshape[\u001b[39m1\u001b[39m]), \u001b[39m1000\u001b[39m)\n\u001b[0;32m      <a href='vscode-notebook-cell:/e%3A/main_desktop/Support-Vector-Machine/experiments.ipynb#W6sZmlsZQ%3D%3D?line=2'>3</a>\u001b[0m \u001b[39mprint\u001b[39m(w, b)\n\u001b[1;32m----> <a href='vscode-notebook-cell:/e%3A/main_desktop/Support-Vector-Machine/experiments.ipynb#W6sZmlsZQ%3D%3D?line=3'>4</a>\u001b[0m \u001b[39mreturn\u001b[39;00m decision_func(X, y, b, w)\n",
      "\u001b[1;32me:\\main_desktop\\Support-Vector-Machine\\experiments.ipynb Cell 8\u001b[0m in \u001b[0;36mdecision_func\u001b[1;34m(X, y, b, w)\u001b[0m\n\u001b[0;32m      <a href='vscode-notebook-cell:/e%3A/main_desktop/Support-Vector-Machine/experiments.ipynb#W6sZmlsZQ%3D%3D?line=0'>1</a>\u001b[0m \u001b[39mdef\u001b[39;00m \u001b[39mdecision_func\u001b[39m(X: np\u001b[39m.\u001b[39mndarray, y: np\u001b[39m.\u001b[39mndarray, b: \u001b[39mfloat\u001b[39m, w: np\u001b[39m.\u001b[39mndarray) \u001b[39m-\u001b[39m\u001b[39m>\u001b[39m np\u001b[39m.\u001b[39mndarray:\n\u001b[1;32m----> <a href='vscode-notebook-cell:/e%3A/main_desktop/Support-Vector-Machine/experiments.ipynb#W6sZmlsZQ%3D%3D?line=1'>2</a>\u001b[0m     \u001b[39mreturn\u001b[39;00m np\u001b[39m.\u001b[39;49mdot(w, X) \u001b[39m+\u001b[39m b\n",
      "File \u001b[1;32m<__array_function__ internals>:180\u001b[0m, in \u001b[0;36mdot\u001b[1;34m(*args, **kwargs)\u001b[0m\n",
      "\u001b[1;31mValueError\u001b[0m: shapes (2,) and (250000,2) not aligned: 2 (dim 0) != 250000 (dim 0)"
     ]
    }
   ],
   "source": [
    "draw_decision_boundary(X, y)"
   ]
  }
 ],
 "metadata": {
  "kernelspec": {
   "display_name": "Python 3.10.4 64-bit",
   "language": "python",
   "name": "python3"
  },
  "language_info": {
   "codemirror_mode": {
    "name": "ipython",
    "version": 3
   },
   "file_extension": ".py",
   "mimetype": "text/x-python",
   "name": "python",
   "nbconvert_exporter": "python",
   "pygments_lexer": "ipython3",
   "version": "3.10.4"
  },
  "orig_nbformat": 4,
  "vscode": {
   "interpreter": {
    "hash": "e96b7987e83db2bb51693718935e9a4c90615288c60e4ac5255cd193dc13706d"
   }
  }
 },
 "nbformat": 4,
 "nbformat_minor": 2
}
