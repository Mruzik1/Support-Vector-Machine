{
 "cells": [
  {
   "cell_type": "code",
   "execution_count": 158,
   "metadata": {},
   "outputs": [],
   "source": [
    "from src import SMO\n",
    "import numpy as np\n",
    "import matplotlib.pyplot as plt\n",
    "import pandas as pd"
   ]
  },
  {
   "cell_type": "markdown",
   "metadata": {},
   "source": [
    "### Loading and Preprocessing Data"
   ]
  },
  {
   "cell_type": "code",
   "execution_count": 159,
   "metadata": {},
   "outputs": [],
   "source": [
    "train_data = pd.read_csv('data/train_titanic.csv')\n",
    "test_data = pd.read_csv('data/test_titanic.csv')\n",
    "\n",
    "cols_to_drop = ['PassengerId', 'Ticket', 'Name', 'Cabin']\n",
    "X_train = train_data.drop(cols_to_drop, axis=1).iloc[:, 1:]\n",
    "y_train = train_data['Survived']\n",
    "X_test = test_data.drop(cols_to_drop, axis=1)"
   ]
  },
  {
   "cell_type": "code",
   "execution_count": 160,
   "metadata": {},
   "outputs": [],
   "source": [
    "embarked_labels = X_train['Embarked'].unique().copy()\n",
    "sex_labels = X_train['Sex'].unique().copy()\n",
    "\n",
    "for x in [X_train, X_test]:\n",
    "    x['Embarked'] = x['Embarked'].map({e: i for i, e in enumerate(embarked_labels)})\n",
    "    x['Sex'] = x['Sex'].map({e: i for i, e in enumerate(sex_labels)})\n",
    "    x.dropna(inplace=True)\n",
    "\n",
    "X_train = X_train.to_numpy()\n",
    "X_test = X_test.to_numpy()\n",
    "y_train = y_train.to_numpy()\n",
    "\n",
    "y_train[y_train == 0] = -1"
   ]
  },
  {
   "cell_type": "markdown",
   "metadata": {},
   "source": [
    "### Creating and Training a Model"
   ]
  },
  {
   "cell_type": "code",
   "execution_count": null,
   "metadata": {},
   "outputs": [],
   "source": []
  }
 ],
 "metadata": {
  "kernelspec": {
   "display_name": "Python 3.10.4 64-bit",
   "language": "python",
   "name": "python3"
  },
  "language_info": {
   "codemirror_mode": {
    "name": "ipython",
    "version": 3
   },
   "file_extension": ".py",
   "mimetype": "text/x-python",
   "name": "python",
   "nbconvert_exporter": "python",
   "pygments_lexer": "ipython3",
   "version": "3.10.4"
  },
  "orig_nbformat": 4,
  "vscode": {
   "interpreter": {
    "hash": "e96b7987e83db2bb51693718935e9a4c90615288c60e4ac5255cd193dc13706d"
   }
  }
 },
 "nbformat": 4,
 "nbformat_minor": 2
}
