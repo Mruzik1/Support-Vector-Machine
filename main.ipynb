{
 "cells": [
  {
   "cell_type": "code",
   "execution_count": 1,
   "metadata": {},
   "outputs": [],
   "source": [
    "from src import SMO\n",
    "import numpy as np\n",
    "import matplotlib.pyplot as plt"
   ]
  },
  {
   "cell_type": "code",
   "execution_count": 2,
   "metadata": {},
   "outputs": [],
   "source": [
    "data = np.loadtxt('data/blobs.csv', delimiter=',')\n",
    "X, y = data[:, :2], data[:, -1]"
   ]
  },
  {
   "cell_type": "code",
   "execution_count": 3,
   "metadata": {},
   "outputs": [],
   "source": [
    "def plot_datapoints(features, labels):\n",
    "    fig, ax = plt.subplots()\n",
    "    fig.set_figwidth(10)\n",
    "    fig.set_figheight(8)\n",
    "    ax.scatter(features[:, 0], features[:, 1], c=labels)\n",
    "    plt.show()"
   ]
  },
  {
   "cell_type": "code",
   "execution_count": 4,
   "metadata": {},
   "outputs": [
    {
     "name": "stdout",
     "output_type": "stream",
     "text": [
      "0) Accuracy: 1.0\n",
      "1) Accuracy: 0.98\n",
      "2) Accuracy: 0.998\n",
      "3) Accuracy: 1.0\n",
      "4) Accuracy: 1.0\n",
      "5) Accuracy: 0.966\n",
      "6) Accuracy: 0.966\n",
      "7) Accuracy: 0.974\n",
      "8) Accuracy: 0.968\n",
      "9) Accuracy: 0.974\n",
      "10) Accuracy: 0.974\n",
      "11) Accuracy: 0.976\n",
      "12) Accuracy: 0.974\n",
      "13) Accuracy: 0.974\n",
      "14) Accuracy: 0.974\n",
      "15) Accuracy: 0.974\n",
      "16) Accuracy: 0.974\n",
      "17) Accuracy: 0.974\n",
      "18) Accuracy: 0.976\n",
      "19) Accuracy: 0.98\n",
      "20) Accuracy: 0.98\n",
      "21) Accuracy: 0.98\n",
      "22) Accuracy: 0.98\n",
      "23) Accuracy: 0.978\n",
      "24) Accuracy: 0.978\n",
      "25) Accuracy: 0.98\n",
      "26) Accuracy: 0.98\n",
      "27) Accuracy: 0.98\n",
      "28) Accuracy: 0.98\n",
      "29) Accuracy: 0.98\n",
      "30) Accuracy: 0.99\n",
      "31) Accuracy: 0.99\n",
      "32) Accuracy: 0.99\n",
      "33) Accuracy: 0.988\n",
      "34) Accuracy: 0.988\n",
      "35) Accuracy: 0.988\n",
      "36) Accuracy: 0.988\n",
      "37) Accuracy: 0.99\n",
      "38) Accuracy: 0.99\n",
      "39) Accuracy: 0.99\n",
      "40) Accuracy: 0.988\n",
      "41) Accuracy: 0.988\n",
      "42) Accuracy: 0.988\n",
      "43) Accuracy: 0.988\n",
      "44) Accuracy: 0.988\n",
      "45) Accuracy: 0.966\n",
      "46) Accuracy: 1.0\n",
      "47) Accuracy: 1.0\n",
      "48) Accuracy: 1.0\n",
      "49) Accuracy: 1.0\n",
      "50) Accuracy: 1.0\n",
      "51) Accuracy: 1.0\n",
      "52) Accuracy: 1.0\n",
      "53) Accuracy: 0.966\n",
      "54) Accuracy: 1.0\n",
      "55) Accuracy: 1.0\n",
      "56) Accuracy: 1.0\n",
      "57) Accuracy: 0.966\n",
      "58) Accuracy: 0.998\n",
      "59) Accuracy: 1.0\n",
      "60) Accuracy: 0.966\n",
      "61) Accuracy: 1.0\n",
      "62) Accuracy: 1.0\n",
      "63) Accuracy: 1.0\n",
      "64) Accuracy: 1.0\n",
      "65) Accuracy: 0.966\n",
      "66) Accuracy: 1.0\n",
      "67) Accuracy: 1.0\n",
      "68) Accuracy: 1.0\n",
      "69) Accuracy: 1.0\n",
      "70) Accuracy: 1.0\n",
      "71) Accuracy: 1.0\n",
      "72) Accuracy: 0.966\n",
      "73) Accuracy: 0.976\n",
      "74) Accuracy: 0.976\n",
      "75) Accuracy: 0.99\n",
      "76) Accuracy: 0.99\n",
      "77) Accuracy: 0.99\n",
      "78) Accuracy: 1.0\n",
      "79) Accuracy: 1.0\n",
      "80) Accuracy: 1.0\n",
      "81) Accuracy: 1.0\n",
      "82) Accuracy: 1.0\n",
      "83) Accuracy: 1.0\n",
      "84) Accuracy: 1.0\n",
      "85) Accuracy: 1.0\n",
      "86) Accuracy: 1.0\n",
      "87) Accuracy: 0.998\n",
      "88) Accuracy: 1.0\n",
      "89) Accuracy: 0.994\n",
      "90) Accuracy: 1.0\n",
      "91) Accuracy: 1.0\n",
      "92) Accuracy: 1.0\n",
      "93) Accuracy: 1.0\n",
      "94) Accuracy: 1.0\n",
      "95) Accuracy: 1.0\n",
      "96) Accuracy: 1.0\n",
      "97) Accuracy: 0.998\n",
      "98) Accuracy: 1.0\n",
      "99) Accuracy: 1.0\n"
     ]
    }
   ],
   "source": [
    "model = SMO(X, y, 'linear', 1)\n",
    "for i in range(100):\n",
    "    print(f'{i}) Accuracy: {model.get_acc()}')\n",
    "    model.fit()"
   ]
  }
 ],
 "metadata": {
  "kernelspec": {
   "display_name": "Python 3.10.4 64-bit",
   "language": "python",
   "name": "python3"
  },
  "language_info": {
   "codemirror_mode": {
    "name": "ipython",
    "version": 3
   },
   "file_extension": ".py",
   "mimetype": "text/x-python",
   "name": "python",
   "nbconvert_exporter": "python",
   "pygments_lexer": "ipython3",
   "version": "3.10.4"
  },
  "orig_nbformat": 4,
  "vscode": {
   "interpreter": {
    "hash": "e96b7987e83db2bb51693718935e9a4c90615288c60e4ac5255cd193dc13706d"
   }
  }
 },
 "nbformat": 4,
 "nbformat_minor": 2
}
